{
 "cells": [
  {
   "cell_type": "code",
   "execution_count": 250,
   "metadata": {},
   "outputs": [],
   "source": [
    "import numpy as np\n",
    "import pandas as pd\n",
    "import plotly as plt\n",
    "import plotly.express as px\n",
    "import plotly.graph_objects as go\n",
    "from plotly.subplots import make_subplots\n",
    "import random\n",
    "\n",
    "from sklearn.svm import SVR\n",
    "\n",
    "\n",
    "\n",
    "pd.options.plotting.backend = \"plotly\""
   ]
  },
  {
   "cell_type": "code",
   "execution_count": 251,
   "metadata": {},
   "outputs": [
    {
     "data": {
      "text/html": [
       "<div>\n",
       "<style scoped>\n",
       "    .dataframe tbody tr th:only-of-type {\n",
       "        vertical-align: middle;\n",
       "    }\n",
       "\n",
       "    .dataframe tbody tr th {\n",
       "        vertical-align: top;\n",
       "    }\n",
       "\n",
       "    .dataframe thead th {\n",
       "        text-align: right;\n",
       "    }\n",
       "</style>\n",
       "<table border=\"1\" class=\"dataframe\">\n",
       "  <thead>\n",
       "    <tr style=\"text-align: right;\">\n",
       "      <th></th>\n",
       "      <th>latitude</th>\n",
       "      <th>longitude</th>\n",
       "      <th>year</th>\n",
       "    </tr>\n",
       "    <tr>\n",
       "      <th>city</th>\n",
       "      <th></th>\n",
       "      <th></th>\n",
       "      <th></th>\n",
       "    </tr>\n",
       "  </thead>\n",
       "  <tbody>\n",
       "    <tr>\n",
       "      <th>Hamburg</th>\n",
       "      <td>53.626077</td>\n",
       "      <td>9.465599</td>\n",
       "      <td>1241.0</td>\n",
       "    </tr>\n",
       "    <tr>\n",
       "      <th>Lubeka</th>\n",
       "      <td>51.568180</td>\n",
       "      <td>8.106338</td>\n",
       "      <td>1241.0</td>\n",
       "    </tr>\n",
       "    <tr>\n",
       "      <th>Roztoka</th>\n",
       "      <td>53.900885</td>\n",
       "      <td>10.770624</td>\n",
       "      <td>1259.0</td>\n",
       "    </tr>\n",
       "    <tr>\n",
       "      <th>Wismar</th>\n",
       "      <td>54.001695</td>\n",
       "      <td>11.416232</td>\n",
       "      <td>1259.0</td>\n",
       "    </tr>\n",
       "    <tr>\n",
       "      <th>Stade</th>\n",
       "      <td>52.274361</td>\n",
       "      <td>10.522475</td>\n",
       "      <td>1253.0</td>\n",
       "    </tr>\n",
       "    <tr>\n",
       "      <th>Kolonia</th>\n",
       "      <td>53.069507</td>\n",
       "      <td>8.850005</td>\n",
       "      <td>1253.0</td>\n",
       "    </tr>\n",
       "    <tr>\n",
       "      <th>Brema</th>\n",
       "      <td>53.554957</td>\n",
       "      <td>9.989304</td>\n",
       "      <td>1253.0</td>\n",
       "    </tr>\n",
       "    <tr>\n",
       "      <th>Munster</th>\n",
       "      <td>51.718716</td>\n",
       "      <td>7.900764</td>\n",
       "      <td>1253.0</td>\n",
       "    </tr>\n",
       "    <tr>\n",
       "      <th>Dortmund</th>\n",
       "      <td>51.718716</td>\n",
       "      <td>7.900764</td>\n",
       "      <td>1253.0</td>\n",
       "    </tr>\n",
       "    <tr>\n",
       "      <th>Soest</th>\n",
       "      <td>51.718716</td>\n",
       "      <td>7.900764</td>\n",
       "      <td>1253.0</td>\n",
       "    </tr>\n",
       "    <tr>\n",
       "      <th>Lippstadt</th>\n",
       "      <td>51.718716</td>\n",
       "      <td>7.900764</td>\n",
       "      <td>1253.0</td>\n",
       "    </tr>\n",
       "    <tr>\n",
       "      <th>Munden</th>\n",
       "      <td>51.960768</td>\n",
       "      <td>7.626551</td>\n",
       "      <td>1246.0</td>\n",
       "    </tr>\n",
       "    <tr>\n",
       "      <th>Coesfeld</th>\n",
       "      <td>52.066784</td>\n",
       "      <td>8.034985</td>\n",
       "      <td>1253.0</td>\n",
       "    </tr>\n",
       "    <tr>\n",
       "      <th>Herford</th>\n",
       "      <td>52.066784</td>\n",
       "      <td>8.034985</td>\n",
       "      <td>1253.0</td>\n",
       "    </tr>\n",
       "    <tr>\n",
       "      <th>Minden</th>\n",
       "      <td>52.066784</td>\n",
       "      <td>8.034985</td>\n",
       "      <td>1253.0</td>\n",
       "    </tr>\n",
       "    <tr>\n",
       "      <th>Osnabruck</th>\n",
       "      <td>52.066784</td>\n",
       "      <td>8.034985</td>\n",
       "      <td>1253.0</td>\n",
       "    </tr>\n",
       "    <tr>\n",
       "      <th>Nordheim</th>\n",
       "      <td>51.411275</td>\n",
       "      <td>9.685364</td>\n",
       "      <td>1246.0</td>\n",
       "    </tr>\n",
       "    <tr>\n",
       "      <th>Lubeka2</th>\n",
       "      <td>54.001695</td>\n",
       "      <td>11.416232</td>\n",
       "      <td>NaN</td>\n",
       "    </tr>\n",
       "    <tr>\n",
       "      <th>Munster2</th>\n",
       "      <td>52.066784</td>\n",
       "      <td>8.034985</td>\n",
       "      <td>NaN</td>\n",
       "    </tr>\n",
       "  </tbody>\n",
       "</table>\n",
       "</div>"
      ],
      "text/plain": [
       "            latitude  longitude    year\n",
       "city                                   \n",
       "Hamburg    53.626077   9.465599  1241.0\n",
       "Lubeka     51.568180   8.106338  1241.0\n",
       "Roztoka    53.900885  10.770624  1259.0\n",
       "Wismar     54.001695  11.416232  1259.0\n",
       "Stade      52.274361  10.522475  1253.0\n",
       "Kolonia    53.069507   8.850005  1253.0\n",
       "Brema      53.554957   9.989304  1253.0\n",
       "Munster    51.718716   7.900764  1253.0\n",
       "Dortmund   51.718716   7.900764  1253.0\n",
       "Soest      51.718716   7.900764  1253.0\n",
       "Lippstadt  51.718716   7.900764  1253.0\n",
       "Munden     51.960768   7.626551  1246.0\n",
       "Coesfeld   52.066784   8.034985  1253.0\n",
       "Herford    52.066784   8.034985  1253.0\n",
       "Minden     52.066784   8.034985  1253.0\n",
       "Osnabruck  52.066784   8.034985  1253.0\n",
       "Nordheim   51.411275   9.685364  1246.0\n",
       "Lubeka2    54.001695  11.416232     NaN\n",
       "Munster2   52.066784   8.034985     NaN"
      ]
     },
     "execution_count": 251,
     "metadata": {},
     "output_type": "execute_result"
    }
   ],
   "source": [
    "cities = pd.read_excel('cities.xlsx', index_col=0)#cities and their coordinates\n",
    "cities_names = pd.read_excel('cities_names.xlsx', index_col=0)  #we will put names a bit moved from the markers\n",
    "lines = pd.read_excel('partners.xlsx', index_col=0)\n",
    "lines"
   ]
  },
  {
   "cell_type": "code",
   "execution_count": 252,
   "metadata": {},
   "outputs": [],
   "source": [
    "class Alliance():\n",
    "    def __init__(self, allies, year):\n",
    "        self.cities = allies\n",
    "        self.year = year\n",
    "\n",
    "    def __str__(self):\n",
    "        return f'{self.cities}, {self.year}'\n",
    "\n",
    "    #returns a list of latitude coordinates\n",
    "    @property\n",
    "    def lat_coordinates(self):  \n",
    "        lat_cords = []\n",
    "        if len(self.cities) > 2:\n",
    "            for ally in self.cities:\n",
    "                lat_connect_point = lines.loc[ally, 'latitude']   #point on the map of which lines will connect\n",
    "                lat_cords.extend([lat_connect_point, cities.loc[ally, 'latitude']])\n",
    "        else:\n",
    "            for ally in self.cities:\n",
    "                lat_cords.append(cities.loc[ally, 'latitude'])\n",
    "        return lat_cords\n",
    "\n",
    "\n",
    "     #returns a list of longitude coordinates\n",
    "    @property\n",
    "    def lon_coordinates(self):  \n",
    "        lon_cords = []\n",
    "        if len(self.cities) > 2: \n",
    "            for ally in self.cities: \n",
    "                lon_connect_point = lines.loc[ally, 'longitude']   #point on the map of which lines will connect\n",
    "                lon_cords.extend([lon_connect_point, cities.loc[ally, 'longitude']])\n",
    "        else:\n",
    "            for ally in self.cities:\n",
    "                lon_cords.append(cities.loc[ally, 'longitude'])\n",
    "        return lon_cords"
   ]
  },
  {
   "cell_type": "code",
   "execution_count": 253,
   "metadata": {},
   "outputs": [],
   "source": [
    "d = []\n",
    "with open(\"alliances.txt\") as f:\n",
    "    for line in f:\n",
    "        alliance = line.split()[0]\n",
    "        allies = alliance.split(',')[0:-1]\n",
    "        year = alliance.split(',')[-1]\n",
    "        d.append(Alliance(allies, year))\n",
    "        "
   ]
  },
  {
   "cell_type": "code",
   "execution_count": 254,
   "metadata": {},
   "outputs": [
    {
     "data": {
      "text/plain": [
       "9.98930408539601"
      ]
     },
     "execution_count": 254,
     "metadata": {},
     "output_type": "execute_result"
    }
   ],
   "source": [
    "cities.loc['Hamburg', 'longitude']"
   ]
  },
  {
   "cell_type": "code",
   "execution_count": 255,
   "metadata": {},
   "outputs": [
    {
     "name": "stdout",
     "output_type": "stream",
     "text": [
      "['Hamburg', 'Lubeka']\n"
     ]
    }
   ],
   "source": [
    "print(d[0].cities)"
   ]
  },
  {
   "cell_type": "code",
   "execution_count": 283,
   "metadata": {},
   "outputs": [],
   "source": [
    "colors = [\n",
    "        'rgb(18, 220, 227)', 'rgb(251, 255, 0)', 'rgb(24, 102, 22)',\n",
    "        'rgb(245, 15, 241)', 'rgb(8, 8, 153)', 'rgb(16, 222, 77)',\n",
    "        'rgb(250, 0, 0)', 'rgb(250, 117, 7)', 'rgb(110, 5, 247)'\n",
    "]"
   ]
  },
  {
   "cell_type": "code",
   "execution_count": 284,
   "metadata": {},
   "outputs": [
    {
     "data": {
      "application/vnd.plotly.v1+json": {
       "config": {
        "plotlyServerURL": "https://plot.ly"
       },
       "data": [
        {
         "type": "scattergeo"
        },
        {
         "lat": [
          53.8049565487433,
          54.0508848766155,
          53.952484417157,
          53.7424205862956,
          52.2743606727883,
          53.7360768716002,
          50.8057703207678,
          53.0695071711484,
          52.1107677663619,
          51.3828264373558,
          51.4381797052547,
          51.6771376363551,
          51.5612753752422,
          52.4834687831447,
          52.5018918681573,
          49.1085294257427,
          51.7857982506814,
          52.0088449834436
         ],
         "lon": [
          10.109304085396,
          10.6506237308124,
          12.1979796972769,
          11.4674873763213,
          10.9524753284093,
          9.36559911102843,
          7.00884885899953,
          8.55000501007919,
          7.62655148654598,
          6.653051417049,
          8.106338,
          8.75240130748794,
          9.68536375609646,
          7.90407888220709,
          8.85628931603052,
          9.50204930683273,
          6.9068360990982,
          9.00545297930297
         ],
         "mode": "text",
         "showlegend": false,
         "text": [
          "Hamburg",
          "Lubeka",
          "Roztoka",
          "Wismar",
          "Brunszwik",
          "Stade",
          "Kolonia",
          "Brema",
          "Munster",
          "Dortmund",
          "Soest",
          "Lippstadt",
          "Munden",
          "Osnabruck",
          "Minden",
          "Nordheim",
          "Coesfeld",
          "Herford"
         ],
         "textfont": {
          "family": "Times New Roman"
         },
         "type": "scattergeo"
        },
        {
         "lat": [
          53.5549565487433,
          53.9008848766155,
          54.092484417157,
          53.8924205862956,
          52.2743606727883,
          53.6260768716002,
          50.9457703207678,
          53.0695071711484,
          51.9607677663619,
          51.5128264373558,
          51.5681797052547,
          51.6771376363551,
          51.4112753752422,
          52.3234687831447,
          52.3518918681573,
          49.1085294257427,
          51.9357982506814,
          52.1988449834436,
          53.9008848766155,
          51.9607677663619
         ],
         "lon": [
          9.98930408539601,
          10.7706237308124,
          12.0979796972769,
          11.4674873763213,
          10.5224753284093,
          9.46559911102843,
          7.00884885899953,
          8.85000501007919,
          7.62655148654598,
          7.1613051417049,
          8.10633813416271,
          8.36240130748794,
          9.68536375609646,
          8.09407888220709,
          8.81628931603052,
          9.13204930683273,
          7.17568360990982,
          8.62545297930297,
          10.7706237308124,
          7.62655148654598
         ],
         "marker": {
          "color": "black"
         },
         "mode": "markers",
         "showlegend": false,
         "type": "scattergeo"
        },
        {
         "lat": [
          53.5549565487433,
          53.9008848766155
         ],
         "legendgroup": "0",
         "line": {
          "color": "rgb(110, 5, 247)"
         },
         "lon": [
          9.98930408539601,
          10.7706237308124
         ],
         "mode": "lines",
         "name": "1241",
         "type": "scattergeo"
        },
        {
         "lat": [
          53.9008848766155,
          51.5681797052547
         ],
         "legendgroup": "1",
         "line": {
          "color": "rgb(250, 117, 7)"
         },
         "lon": [
          10.7706237308124,
          8.10633813416271
         ],
         "mode": "lines",
         "name": "1241",
         "type": "scattergeo"
        },
        {
         "lat": [
          52.0667841738631,
          52.3234687831447,
          52.0667841738631,
          52.3518918681573,
          52.0667841738631,
          51.9357982506814,
          52.0667841738631,
          52.1988449834436,
          52.0667841738631,
          51.9607677663619
         ],
         "legendgroup": "2",
         "line": {
          "color": "rgb(250, 0, 0)"
         },
         "lon": [
          8.03498510849934,
          8.09407888220709,
          8.03498510849934,
          8.81628931603052,
          8.03498510849934,
          7.17568360990982,
          8.03498510849934,
          8.62545297930297,
          8.03498510849934,
          7.62655148654598
         ],
         "mode": "lines",
         "name": "1246",
         "type": "scattergeo"
        },
        {
         "lat": [
          51.4112753752422,
          49.1085294257427
         ],
         "legendgroup": "3",
         "line": {
          "color": "rgb(16, 222, 77)"
         },
         "lon": [
          9.68536375609646,
          9.13204930683273
         ],
         "mode": "lines",
         "name": "1246",
         "type": "scattergeo"
        },
        {
         "lat": [
          51.7187161534868,
          51.5128264373558,
          51.7187161534868,
          51.5681797052547,
          51.7187161534868,
          51.9607677663619,
          51.7187161534868,
          51.6771376363551
         ],
         "legendgroup": "4",
         "line": {
          "color": "rgb(8, 8, 153)"
         },
         "lon": [
          7.90076383131399,
          7.1613051417049,
          7.90076383131399,
          8.10633813416271,
          7.90076383131399,
          7.62655148654598,
          7.90076383131399,
          8.36240130748794
         ],
         "mode": "lines",
         "name": "1253",
         "type": "scattergeo"
        },
        {
         "lat": [
          53.6260768716002,
          52.2743606727883
         ],
         "legendgroup": "5",
         "line": {
          "color": "rgb(245, 15, 241)"
         },
         "lon": [
          9.46559911102843,
          10.5224753284093
         ],
         "mode": "lines",
         "name": "1253",
         "type": "scattergeo"
        },
        {
         "lat": [
          50.9457703207678,
          53.0695071711484
         ],
         "legendgroup": "6",
         "line": {
          "color": "rgb(24, 102, 22)"
         },
         "lon": [
          7.00884885899953,
          8.85000501007919
         ],
         "mode": "lines",
         "name": "1253",
         "type": "scattergeo"
        },
        {
         "lat": [
          53.0695071711484,
          53.5549565487433
         ],
         "legendgroup": "7",
         "line": {
          "color": "rgb(251, 255, 0)"
         },
         "lon": [
          8.85000501007919,
          9.98930408539601
         ],
         "mode": "lines",
         "name": "1253",
         "type": "scattergeo"
        },
        {
         "lat": [
          53.9008848766155,
          54.092484417157,
          54.0016948038058,
          53.8924205862956,
          54.0016948038058,
          53.9008848766155
         ],
         "legendgroup": "8",
         "line": {
          "color": "rgb(18, 220, 227)"
         },
         "lon": [
          10.7706237308124,
          12.0979796972769,
          11.4162320101442,
          11.4674873763213,
          11.4162320101442,
          10.7706237308124
         ],
         "mode": "lines",
         "name": "1259",
         "type": "scattergeo"
        }
       ],
       "layout": {
        "legend": {
         "x": 1,
         "xanchor": "right",
         "y": 0.5,
         "yanchor": "middle"
        },
        "mapbox": {
         "style": "carto-positron",
         "zoom": 2
        },
        "margin": {
         "b": 0,
         "l": 0,
         "r": 0,
         "t": 0
        },
        "template": {
         "data": {
          "bar": [
           {
            "error_x": {
             "color": "#2a3f5f"
            },
            "error_y": {
             "color": "#2a3f5f"
            },
            "marker": {
             "line": {
              "color": "#E5ECF6",
              "width": 0.5
             },
             "pattern": {
              "fillmode": "overlay",
              "size": 10,
              "solidity": 0.2
             }
            },
            "type": "bar"
           }
          ],
          "barpolar": [
           {
            "marker": {
             "line": {
              "color": "#E5ECF6",
              "width": 0.5
             },
             "pattern": {
              "fillmode": "overlay",
              "size": 10,
              "solidity": 0.2
             }
            },
            "type": "barpolar"
           }
          ],
          "carpet": [
           {
            "aaxis": {
             "endlinecolor": "#2a3f5f",
             "gridcolor": "white",
             "linecolor": "white",
             "minorgridcolor": "white",
             "startlinecolor": "#2a3f5f"
            },
            "baxis": {
             "endlinecolor": "#2a3f5f",
             "gridcolor": "white",
             "linecolor": "white",
             "minorgridcolor": "white",
             "startlinecolor": "#2a3f5f"
            },
            "type": "carpet"
           }
          ],
          "choropleth": [
           {
            "colorbar": {
             "outlinewidth": 0,
             "ticks": ""
            },
            "type": "choropleth"
           }
          ],
          "contour": [
           {
            "colorbar": {
             "outlinewidth": 0,
             "ticks": ""
            },
            "colorscale": [
             [
              0,
              "#0d0887"
             ],
             [
              0.1111111111111111,
              "#46039f"
             ],
             [
              0.2222222222222222,
              "#7201a8"
             ],
             [
              0.3333333333333333,
              "#9c179e"
             ],
             [
              0.4444444444444444,
              "#bd3786"
             ],
             [
              0.5555555555555556,
              "#d8576b"
             ],
             [
              0.6666666666666666,
              "#ed7953"
             ],
             [
              0.7777777777777778,
              "#fb9f3a"
             ],
             [
              0.8888888888888888,
              "#fdca26"
             ],
             [
              1,
              "#f0f921"
             ]
            ],
            "type": "contour"
           }
          ],
          "contourcarpet": [
           {
            "colorbar": {
             "outlinewidth": 0,
             "ticks": ""
            },
            "type": "contourcarpet"
           }
          ],
          "heatmap": [
           {
            "colorbar": {
             "outlinewidth": 0,
             "ticks": ""
            },
            "colorscale": [
             [
              0,
              "#0d0887"
             ],
             [
              0.1111111111111111,
              "#46039f"
             ],
             [
              0.2222222222222222,
              "#7201a8"
             ],
             [
              0.3333333333333333,
              "#9c179e"
             ],
             [
              0.4444444444444444,
              "#bd3786"
             ],
             [
              0.5555555555555556,
              "#d8576b"
             ],
             [
              0.6666666666666666,
              "#ed7953"
             ],
             [
              0.7777777777777778,
              "#fb9f3a"
             ],
             [
              0.8888888888888888,
              "#fdca26"
             ],
             [
              1,
              "#f0f921"
             ]
            ],
            "type": "heatmap"
           }
          ],
          "heatmapgl": [
           {
            "colorbar": {
             "outlinewidth": 0,
             "ticks": ""
            },
            "colorscale": [
             [
              0,
              "#0d0887"
             ],
             [
              0.1111111111111111,
              "#46039f"
             ],
             [
              0.2222222222222222,
              "#7201a8"
             ],
             [
              0.3333333333333333,
              "#9c179e"
             ],
             [
              0.4444444444444444,
              "#bd3786"
             ],
             [
              0.5555555555555556,
              "#d8576b"
             ],
             [
              0.6666666666666666,
              "#ed7953"
             ],
             [
              0.7777777777777778,
              "#fb9f3a"
             ],
             [
              0.8888888888888888,
              "#fdca26"
             ],
             [
              1,
              "#f0f921"
             ]
            ],
            "type": "heatmapgl"
           }
          ],
          "histogram": [
           {
            "marker": {
             "pattern": {
              "fillmode": "overlay",
              "size": 10,
              "solidity": 0.2
             }
            },
            "type": "histogram"
           }
          ],
          "histogram2d": [
           {
            "colorbar": {
             "outlinewidth": 0,
             "ticks": ""
            },
            "colorscale": [
             [
              0,
              "#0d0887"
             ],
             [
              0.1111111111111111,
              "#46039f"
             ],
             [
              0.2222222222222222,
              "#7201a8"
             ],
             [
              0.3333333333333333,
              "#9c179e"
             ],
             [
              0.4444444444444444,
              "#bd3786"
             ],
             [
              0.5555555555555556,
              "#d8576b"
             ],
             [
              0.6666666666666666,
              "#ed7953"
             ],
             [
              0.7777777777777778,
              "#fb9f3a"
             ],
             [
              0.8888888888888888,
              "#fdca26"
             ],
             [
              1,
              "#f0f921"
             ]
            ],
            "type": "histogram2d"
           }
          ],
          "histogram2dcontour": [
           {
            "colorbar": {
             "outlinewidth": 0,
             "ticks": ""
            },
            "colorscale": [
             [
              0,
              "#0d0887"
             ],
             [
              0.1111111111111111,
              "#46039f"
             ],
             [
              0.2222222222222222,
              "#7201a8"
             ],
             [
              0.3333333333333333,
              "#9c179e"
             ],
             [
              0.4444444444444444,
              "#bd3786"
             ],
             [
              0.5555555555555556,
              "#d8576b"
             ],
             [
              0.6666666666666666,
              "#ed7953"
             ],
             [
              0.7777777777777778,
              "#fb9f3a"
             ],
             [
              0.8888888888888888,
              "#fdca26"
             ],
             [
              1,
              "#f0f921"
             ]
            ],
            "type": "histogram2dcontour"
           }
          ],
          "mesh3d": [
           {
            "colorbar": {
             "outlinewidth": 0,
             "ticks": ""
            },
            "type": "mesh3d"
           }
          ],
          "parcoords": [
           {
            "line": {
             "colorbar": {
              "outlinewidth": 0,
              "ticks": ""
             }
            },
            "type": "parcoords"
           }
          ],
          "pie": [
           {
            "automargin": true,
            "type": "pie"
           }
          ],
          "scatter": [
           {
            "fillpattern": {
             "fillmode": "overlay",
             "size": 10,
             "solidity": 0.2
            },
            "type": "scatter"
           }
          ],
          "scatter3d": [
           {
            "line": {
             "colorbar": {
              "outlinewidth": 0,
              "ticks": ""
             }
            },
            "marker": {
             "colorbar": {
              "outlinewidth": 0,
              "ticks": ""
             }
            },
            "type": "scatter3d"
           }
          ],
          "scattercarpet": [
           {
            "marker": {
             "colorbar": {
              "outlinewidth": 0,
              "ticks": ""
             }
            },
            "type": "scattercarpet"
           }
          ],
          "scattergeo": [
           {
            "marker": {
             "colorbar": {
              "outlinewidth": 0,
              "ticks": ""
             }
            },
            "type": "scattergeo"
           }
          ],
          "scattergl": [
           {
            "marker": {
             "colorbar": {
              "outlinewidth": 0,
              "ticks": ""
             }
            },
            "type": "scattergl"
           }
          ],
          "scattermapbox": [
           {
            "marker": {
             "colorbar": {
              "outlinewidth": 0,
              "ticks": ""
             }
            },
            "type": "scattermapbox"
           }
          ],
          "scatterpolar": [
           {
            "marker": {
             "colorbar": {
              "outlinewidth": 0,
              "ticks": ""
             }
            },
            "type": "scatterpolar"
           }
          ],
          "scatterpolargl": [
           {
            "marker": {
             "colorbar": {
              "outlinewidth": 0,
              "ticks": ""
             }
            },
            "type": "scatterpolargl"
           }
          ],
          "scatterternary": [
           {
            "marker": {
             "colorbar": {
              "outlinewidth": 0,
              "ticks": ""
             }
            },
            "type": "scatterternary"
           }
          ],
          "surface": [
           {
            "colorbar": {
             "outlinewidth": 0,
             "ticks": ""
            },
            "colorscale": [
             [
              0,
              "#0d0887"
             ],
             [
              0.1111111111111111,
              "#46039f"
             ],
             [
              0.2222222222222222,
              "#7201a8"
             ],
             [
              0.3333333333333333,
              "#9c179e"
             ],
             [
              0.4444444444444444,
              "#bd3786"
             ],
             [
              0.5555555555555556,
              "#d8576b"
             ],
             [
              0.6666666666666666,
              "#ed7953"
             ],
             [
              0.7777777777777778,
              "#fb9f3a"
             ],
             [
              0.8888888888888888,
              "#fdca26"
             ],
             [
              1,
              "#f0f921"
             ]
            ],
            "type": "surface"
           }
          ],
          "table": [
           {
            "cells": {
             "fill": {
              "color": "#EBF0F8"
             },
             "line": {
              "color": "white"
             }
            },
            "header": {
             "fill": {
              "color": "#C8D4E3"
             },
             "line": {
              "color": "white"
             }
            },
            "type": "table"
           }
          ]
         },
         "layout": {
          "annotationdefaults": {
           "arrowcolor": "#2a3f5f",
           "arrowhead": 0,
           "arrowwidth": 1
          },
          "autotypenumbers": "strict",
          "coloraxis": {
           "colorbar": {
            "outlinewidth": 0,
            "ticks": ""
           }
          },
          "colorscale": {
           "diverging": [
            [
             0,
             "#8e0152"
            ],
            [
             0.1,
             "#c51b7d"
            ],
            [
             0.2,
             "#de77ae"
            ],
            [
             0.3,
             "#f1b6da"
            ],
            [
             0.4,
             "#fde0ef"
            ],
            [
             0.5,
             "#f7f7f7"
            ],
            [
             0.6,
             "#e6f5d0"
            ],
            [
             0.7,
             "#b8e186"
            ],
            [
             0.8,
             "#7fbc41"
            ],
            [
             0.9,
             "#4d9221"
            ],
            [
             1,
             "#276419"
            ]
           ],
           "sequential": [
            [
             0,
             "#0d0887"
            ],
            [
             0.1111111111111111,
             "#46039f"
            ],
            [
             0.2222222222222222,
             "#7201a8"
            ],
            [
             0.3333333333333333,
             "#9c179e"
            ],
            [
             0.4444444444444444,
             "#bd3786"
            ],
            [
             0.5555555555555556,
             "#d8576b"
            ],
            [
             0.6666666666666666,
             "#ed7953"
            ],
            [
             0.7777777777777778,
             "#fb9f3a"
            ],
            [
             0.8888888888888888,
             "#fdca26"
            ],
            [
             1,
             "#f0f921"
            ]
           ],
           "sequentialminus": [
            [
             0,
             "#0d0887"
            ],
            [
             0.1111111111111111,
             "#46039f"
            ],
            [
             0.2222222222222222,
             "#7201a8"
            ],
            [
             0.3333333333333333,
             "#9c179e"
            ],
            [
             0.4444444444444444,
             "#bd3786"
            ],
            [
             0.5555555555555556,
             "#d8576b"
            ],
            [
             0.6666666666666666,
             "#ed7953"
            ],
            [
             0.7777777777777778,
             "#fb9f3a"
            ],
            [
             0.8888888888888888,
             "#fdca26"
            ],
            [
             1,
             "#f0f921"
            ]
           ]
          },
          "colorway": [
           "#636efa",
           "#EF553B",
           "#00cc96",
           "#ab63fa",
           "#FFA15A",
           "#19d3f3",
           "#FF6692",
           "#B6E880",
           "#FF97FF",
           "#FECB52"
          ],
          "font": {
           "color": "#2a3f5f"
          },
          "geo": {
           "bgcolor": "white",
           "lakecolor": "white",
           "landcolor": "#E5ECF6",
           "showlakes": true,
           "showland": true,
           "subunitcolor": "white"
          },
          "hoverlabel": {
           "align": "left"
          },
          "hovermode": "closest",
          "mapbox": {
           "style": "light"
          },
          "paper_bgcolor": "white",
          "plot_bgcolor": "#E5ECF6",
          "polar": {
           "angularaxis": {
            "gridcolor": "white",
            "linecolor": "white",
            "ticks": ""
           },
           "bgcolor": "#E5ECF6",
           "radialaxis": {
            "gridcolor": "white",
            "linecolor": "white",
            "ticks": ""
           }
          },
          "scene": {
           "xaxis": {
            "backgroundcolor": "#E5ECF6",
            "gridcolor": "white",
            "gridwidth": 2,
            "linecolor": "white",
            "showbackground": true,
            "ticks": "",
            "zerolinecolor": "white"
           },
           "yaxis": {
            "backgroundcolor": "#E5ECF6",
            "gridcolor": "white",
            "gridwidth": 2,
            "linecolor": "white",
            "showbackground": true,
            "ticks": "",
            "zerolinecolor": "white"
           },
           "zaxis": {
            "backgroundcolor": "#E5ECF6",
            "gridcolor": "white",
            "gridwidth": 2,
            "linecolor": "white",
            "showbackground": true,
            "ticks": "",
            "zerolinecolor": "white"
           }
          },
          "shapedefaults": {
           "line": {
            "color": "#2a3f5f"
           }
          },
          "ternary": {
           "aaxis": {
            "gridcolor": "white",
            "linecolor": "white",
            "ticks": ""
           },
           "baxis": {
            "gridcolor": "white",
            "linecolor": "white",
            "ticks": ""
           },
           "bgcolor": "#E5ECF6",
           "caxis": {
            "gridcolor": "white",
            "linecolor": "white",
            "ticks": ""
           }
          },
          "title": {
           "x": 0.05
          },
          "xaxis": {
           "automargin": true,
           "gridcolor": "white",
           "linecolor": "white",
           "ticks": "",
           "title": {
            "standoff": 15
           },
           "zerolinecolor": "white",
           "zerolinewidth": 2
          },
          "yaxis": {
           "automargin": true,
           "gridcolor": "white",
           "linecolor": "white",
           "ticks": "",
           "title": {
            "standoff": 15
           },
           "zerolinecolor": "white",
           "zerolinewidth": 2
          }
         }
        }
       }
      }
     },
     "metadata": {},
     "output_type": "display_data"
    }
   ],
   "source": [
    "fig = go.Figure(go.Scattergeo())\n",
    "\n",
    "\n",
    "fig.add_trace(go.Scattergeo(\n",
    "    mode = \"text\",\n",
    "    lon = cities_names['longitude'],\n",
    "    lat = cities_names['latitude'],\n",
    "    text = cities_names.index,\n",
    "    textfont = {'family': 'Times New Roman'},\n",
    "    showlegend = False\n",
    "    ))\n",
    "\n",
    "fig.add_trace(go.Scattergeo(   #this trace is inside loop only to have same colors as lines\n",
    "    mode = \"markers\",\n",
    "    lon = cities['longitude'],\n",
    "    lat = cities['latitude'],\n",
    "    marker = {'color': 'black'},   \n",
    "    showlegend = False\n",
    "    ))\n",
    "for alliance in d:\n",
    "    fig.add_trace(go.Scattergeo(\n",
    "        mode = 'lines',\n",
    "        lon = alliance.lon_coordinates,\n",
    "        lat = alliance.lat_coordinates,\n",
    "        line = {\"color\" : colors.pop()},\n",
    "        legendgroup = d.index(alliance),\n",
    "        name = alliance.year\n",
    "    ))\n",
    "\n",
    "\n",
    "fig.update_layout(\n",
    "    margin ={'l':0,'t':0,'b':0,'r':0},\n",
    "    mapbox = {\n",
    "        'style': \"carto-positron\",\n",
    "        'zoom': 2},\n",
    "    legend = {\n",
    "        'yanchor': 'middle',\n",
    "        'y': 0.5,\n",
    "        'xanchor': 'right',\n",
    "        'x':1})"
   ]
  },
  {
   "cell_type": "code",
   "execution_count": null,
   "metadata": {},
   "outputs": [],
   "source": []
  },
  {
   "cell_type": "code",
   "execution_count": null,
   "metadata": {},
   "outputs": [],
   "source": []
  }
 ],
 "metadata": {
  "kernelspec": {
   "display_name": "Python 3.10.4 64-bit",
   "language": "python",
   "name": "python3"
  },
  "language_info": {
   "codemirror_mode": {
    "name": "ipython",
    "version": 3
   },
   "file_extension": ".py",
   "mimetype": "text/x-python",
   "name": "python",
   "nbconvert_exporter": "python",
   "pygments_lexer": "ipython3",
   "version": "3.10.4"
  },
  "orig_nbformat": 4,
  "vscode": {
   "interpreter": {
    "hash": "44688df838afed5db9ed8ad4a4449e7ab076da17bb5573113bc67ad1a15b8380"
   }
  }
 },
 "nbformat": 4,
 "nbformat_minor": 2
}
